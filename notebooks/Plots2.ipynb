{
 "cells": [
  {
   "cell_type": "code",
   "execution_count": 1,
   "metadata": {},
   "outputs": [],
   "source": [
    "%load_ext autoreload\n",
    "%autoreload 2\n",
    "import torch"
   ]
  },
  {
   "cell_type": "code",
   "execution_count": 2,
   "metadata": {},
   "outputs": [],
   "source": [
    "import os\n",
    "os.chdir('../')"
   ]
  },
  {
   "cell_type": "code",
   "execution_count": 4,
   "metadata": {},
   "outputs": [],
   "source": [
    "from utils.datasets import get_dataloaders, get_img_size, DATASETS\n",
    "from disvae.utils.modelIO import save_model, load_model, load_metadata\n"
   ]
  },
  {
   "cell_type": "markdown",
   "metadata": {},
   "source": [
    "# fit regressor"
   ]
  },
  {
   "cell_type": "markdown",
   "metadata": {},
   "source": [
    "## load dataset"
   ]
  },
  {
   "cell_type": "code",
   "execution_count": 5,
   "metadata": {},
   "outputs": [],
   "source": [
    "test_loader = get_dataloaders(\"dshapes2\",\n",
    "                              batch_size=10000,\n",
    "                              shuffle=True,\n",
    "                              logger=None)\n",
    "\n",
    "# subset_indices = # select your indices here\n",
    "# subset_loader = torch.utils.data.DataLoader(cifar_dataset, batch_size=32, shuffle=True, sampler=SubsetRandomSampler(subset_indices), ...)\n"
   ]
  },
  {
   "cell_type": "markdown",
   "metadata": {},
   "source": [
    "## load model"
   ]
  },
  {
   "cell_type": "code",
   "execution_count": 6,
   "metadata": {},
   "outputs": [],
   "source": [
    "exp_dir = 'cvae_dshapes2_randSample_klqq=0.1_klu=10_epoch=70_batch=32_lr=0.0001_z=7_zu=1'\n",
    "exp_dir = 'results/' + exp_dir\n",
    "model = load_model(exp_dir, is_gpu=True)"
   ]
  },
  {
   "cell_type": "code",
   "execution_count": 7,
   "metadata": {},
   "outputs": [
    {
     "name": "stdout",
     "output_type": "stream",
     "text": [
      "results/cvae_dshapes2_randSample_klqq=0.1_klu=10_epoch=70_batch=32_lr=0.0001_z=7_zu=1\n"
     ]
    }
   ],
   "source": [
    "print(exp_dir)"
   ]
  },
  {
   "cell_type": "code",
   "execution_count": 8,
   "metadata": {},
   "outputs": [],
   "source": [
    "device = 'cuda'\n",
    "def infer(model, data):\n",
    "    with torch.no_grad():\n",
    "        model.eval()\n",
    "        device = next(model.parameters()).device\n",
    "\n",
    "        latents, targets = [], []\n",
    "        for x, t in data:\n",
    "            x, xa, xb = x\n",
    "            x = x.to(device=device)\n",
    "            xa = xa.to(device=device) \n",
    "            xb = xb.to(device=device)\n",
    "\n",
    "            pmu1, plu1, pmc1, plc1, pmu2, plu2, _, _ = model.encoder(xa, xb)\n",
    "            post_mean = torch.cat((pmu1, pmc1, pmu2), dim=-1) # just using the mean from xa\n",
    "            latents.append(post_mean.cpu())\n",
    "            targets.append(t)\n",
    "            break\n",
    "\n",
    "    latents = torch.cat(latents)\n",
    "    targets = torch.cat(targets)\n",
    "\n",
    "    return latents, targets"
   ]
  },
  {
   "cell_type": "code",
   "execution_count": 9,
   "metadata": {},
   "outputs": [],
   "source": [
    "l, t = infer(model, test_loader)"
   ]
  },
  {
   "cell_type": "code",
   "execution_count": 12,
   "metadata": {},
   "outputs": [],
   "source": [
    "from analysis.metrics import DCIMetrics\n",
    "metric_data = (l, t)\n",
    "eastwood = DCIMetrics(metric_data, n_factors=6)\n"
   ]
  },
  {
   "cell_type": "code",
   "execution_count": 13,
   "metadata": {},
   "outputs": [
    {
     "name": "stdout",
     "output_type": "stream",
     "text": [
      "torch.Size([10000, 6])\n"
     ]
    }
   ],
   "source": [
    "print(t.shape)"
   ]
  },
  {
   "cell_type": "code",
   "execution_count": 14,
   "metadata": {},
   "outputs": [
    {
     "name": "stdout",
     "output_type": "stream",
     "text": [
      "torch.Size([10000, 7])\n"
     ]
    }
   ],
   "source": [
    "print(l.shape)"
   ]
  },
  {
   "cell_type": "code",
   "execution_count": 21,
   "metadata": {},
   "outputs": [
    {
     "name": "stdout",
     "output_type": "stream",
     "text": [
      "train acc is [0.933625 0.933125 0.876125 0.806125 0.9405   0.9985  ]\n",
      "test acc is [0.7885 0.8195 0.666  0.575  0.8945 0.9435]\n",
      "log losses on test set is [0.77592423 0.59596921 1.02529399 1.15576413 0.43966211 0.19818209]\n"
     ]
    }
   ],
   "source": [
    "metric_data = (l, t)\n",
    "eastwood = DCIMetrics(metric_data, n_factors=6, regressor='ensemble')\n",
    "vae_scores = eastwood(model, model_zs = metric_data)\n"
   ]
  },
  {
   "cell_type": "code",
   "execution_count": 18,
   "metadata": {},
   "outputs": [
    {
     "name": "stdout",
     "output_type": "stream",
     "text": [
      "train acc is [0.93075  0.939375 0.875625 0.79925  0.942125 0.407625]\n",
      "test acc is [0.7845 0.835  0.663  0.5745 0.901  0.053 ]\n",
      "log losses on test set is [0.76924324 0.57210663 1.02094056 1.14794745 0.43280904 2.80035329]\n"
     ]
    }
   ],
   "source": [
    "metric_data = (l[:, 1:6], t)\n",
    "eastwood = DCIMetrics(metric_data, n_factors=6, regressor='ensemble')\n",
    "vae_scores = eastwood(model, model_zs = metric_data)"
   ]
  },
  {
   "cell_type": "code",
   "execution_count": 19,
   "metadata": {},
   "outputs": [
    {
     "name": "stdout",
     "output_type": "stream",
     "text": [
      "train acc is [0.299875 0.45675  0.31925  0.334625 0.43225  0.955625]\n",
      "test acc is [0.121  0.3275 0.114  0.1755 0.3505 0.891 ]\n",
      "log losses on test set is [2.32642622 1.82965893 2.33567843 2.06196372 1.34039114 0.35915932]\n"
     ]
    },
    {
     "name": "stderr",
     "output_type": "stream",
     "text": [
      "/home/ubuntu/common-vae/analysis/metrics.py:165: RuntimeWarning: divide by zero encountered in true_divide\n",
      "  log_probs = np.log(probs + EPS) / np.log(R_coeff.shape[0])\n"
     ]
    }
   ],
   "source": [
    "metric_data = (l[:, :1], t)\n",
    "eastwood_unq = DCIMetrics(metric_data, n_factors=6, regressor='ensemble')\n",
    "vae_scores = eastwood_unq(model, model_zs = metric_data)"
   ]
  },
  {
   "cell_type": "code",
   "execution_count": 23,
   "metadata": {},
   "outputs": [],
   "source": [
    "vae_R = vae_scores.R_coeff"
   ]
  },
  {
   "cell_type": "code",
   "execution_count": 22,
   "metadata": {},
   "outputs": [
    {
     "name": "stdout",
     "output_type": "stream",
     "text": [
      "DCIResults(R_coeff=array([[0.00504893, 0.01588075, 0.00748449, 0.00942209, 0.00323701,\n",
      "        0.94656355],\n",
      "       [0.01960633, 0.03303899, 0.27065964, 0.26948937, 0.36100399,\n",
      "        0.00279841],\n",
      "       [0.34254592, 0.02592229, 0.31644504, 0.27012006, 0.02035331,\n",
      "        0.00248046],\n",
      "       [0.31998553, 0.10020854, 0.05599854, 0.33563455, 0.0301956 ,\n",
      "        0.00162137],\n",
      "       [0.00618298, 0.61331185, 0.08875099, 0.05270015, 0.36253809,\n",
      "        0.04295356],\n",
      "       [0.30213184, 0.1945214 , 0.25196025, 0.05287731, 0.21895247,\n",
      "        0.00247192],\n",
      "       [0.00449847, 0.01711618, 0.00870106, 0.00975646, 0.00371953,\n",
      "        0.00111073]]), disentanglement_scores=array([0.86927527, 0.27732505, 0.28566216, 0.27517918, 0.33781252,\n",
      "       0.15242858, 0.13734131]), overall_disentanglment=0.36523918857379817, completness_scores=array([0.35620332, 0.38763743, 0.21916945, 0.24301994, 0.3357655 ,\n",
      "       0.87084315]), log_losses=array([0.77592423, 0.59596921, 1.02529399, 1.15576413, 0.43966211,\n",
      "       0.19818209]))\n"
     ]
    }
   ],
   "source": [
    "print(vae_scores)"
   ]
  },
  {
   "cell_type": "markdown",
   "metadata": {},
   "source": [
    "## visualizing"
   ]
  },
  {
   "cell_type": "code",
   "execution_count": 24,
   "metadata": {},
   "outputs": [
    {
     "data": {
      "image/png": "[encoded data removed]",
      "text/plain": [
       "<Figure size 432x288 with 1 Axes>"
      ]
     },
     "metadata": {
      "needs_background": "light"
     },
     "output_type": "display_data"
    }
   ],
   "source": [
    "from analysis.hinton import hinton\n",
    "hinton(vae_R, 'factor', 'latent', fontsize=18)"
   ]
  },
  {
   "cell_type": "code",
   "execution_count": 27,
   "metadata": {},
   "outputs": [
    {
     "name": "stdout",
     "output_type": "stream",
     "text": [
      "(7, 6)\n"
     ]
    }
   ],
   "source": [
    "print(vae_R.shape)"
   ]
  },
  {
   "cell_type": "code",
   "execution_count": 24,
   "metadata": {},
   "outputs": [
    {
     "name": "stdout",
     "output_type": "stream",
     "text": [
      "[0.70315351 0.6942059  0.29207009 0.35471524 0.26990988 0.29582341\n",
      " 0.27595099]\n"
     ]
    }
   ],
   "source": [
    "print(vae_scores.disentanglement_scores)"
   ]
  },
  {
   "cell_type": "markdown",
   "metadata": {},
   "source": [
    "## new exp 3d-shapes"
   ]
  },
  {
   "cell_type": "code",
   "execution_count": 5,
   "metadata": {},
   "outputs": [],
   "source": [
    "test_loader = get_dataloaders(\"dshapes2\",\n",
    "                              batch_size=128,\n",
    "                              shuffle=False,\n",
    "                              logger=None)\n",
    "exp_dir = 'cvae_dshapes2_randSample_klqq=0.1_klu=10_epoch=70_batch=32_z=7_zu=1'\n",
    "exp_dir = 'results/' + exp_dir\n",
    "model = load_model(exp_dir, is_gpu=True)"
   ]
  },
  {
   "cell_type": "code",
   "execution_count": 8,
   "metadata": {},
   "outputs": [],
   "source": [
    "l, t = infer(model, test_loader)"
   ]
  },
  {
   "cell_type": "code",
   "execution_count": 24,
   "metadata": {},
   "outputs": [],
   "source": [
    "from analysis.metrics import DCIMetrics\n",
    "metric_data = (l[:,:6], t)\n",
    "eastwood = DCIMetrics(metric_data, n_factors=6)"
   ]
  },
  {
   "cell_type": "code",
   "execution_count": 25,
   "metadata": {},
   "outputs": [],
   "source": [
    "vae_scores = eastwood(model, model_zs = metric_data)\n",
    "vae_R = vae_scores.R_coeff"
   ]
  },
  {
   "cell_type": "code",
   "execution_count": 26,
   "metadata": {},
   "outputs": [
    {
     "data": {
      "image/png": "[encoded data removed]",
      "text/plain": [
       "<Figure size 432x288 with 1 Axes>"
      ]
     },
     "metadata": {
      "needs_background": "light"
     },
     "output_type": "display_data"
    }
   ],
   "source": [
    "from analysis.hinton import hinton\n",
    "hinton(vae_R, 'factor', 'latent', fontsize=18)"
   ]
  },
  {
   "cell_type": "code",
   "execution_count": 27,
   "metadata": {},
   "outputs": [
    {
     "name": "stdout",
     "output_type": "stream",
     "text": [
      "[1.         0.70023737 0.93821185 0.85113669 0.95553696 0.49920984]\n"
     ]
    }
   ],
   "source": [
    "print(vae_scores.disentanglement_scores)"
   ]
  },
  {
   "cell_type": "code",
   "execution_count": 28,
   "metadata": {},
   "outputs": [
    {
     "name": "stdout",
     "output_type": "stream",
     "text": [
      "0.7925896979212347\n"
     ]
    }
   ],
   "source": [
    "print(vae_scores.overall_disentanglment)"
   ]
  },
  {
   "cell_type": "code",
   "execution_count": 16,
   "metadata": {},
   "outputs": [
    {
     "name": "stdout",
     "output_type": "stream",
     "text": [
      "[[0.00000000e+00 0.00000000e+00 0.00000000e+00 0.00000000e+00\n",
      "  0.00000000e+00 9.13894131e-01]\n",
      " [0.00000000e+00 1.74199145e-01 0.00000000e+00 0.00000000e+00\n",
      "  5.15097845e-02 0.00000000e+00]\n",
      " [0.00000000e+00 0.00000000e+00 1.08848454e-02 0.00000000e+00\n",
      "  2.60105544e-04 0.00000000e+00]\n",
      " [4.81733732e-02 0.00000000e+00 0.00000000e+00 1.38038315e-02\n",
      "  9.37402693e-01 0.00000000e+00]\n",
      " [2.41154866e-01 0.00000000e+00 0.00000000e+00 3.77611552e-03\n",
      "  0.00000000e+00 0.00000000e+00]\n",
      " [1.54128355e-01 0.00000000e+00 0.00000000e+00 5.90074644e-01\n",
      "  1.71997119e-01 0.00000000e+00]]\n"
     ]
    }
   ],
   "source": [
    "print(vae_R)"
   ]
  },
  {
   "cell_type": "markdown",
   "metadata": {},
   "source": [
    "## new exp (batch 64)"
   ]
  },
  {
   "cell_type": "code",
   "execution_count": 4,
   "metadata": {},
   "outputs": [],
   "source": [
    "test_loader = get_dataloaders(\"dshapes2\",\n",
    "                              batch_size=128,\n",
    "                              shuffle=False,\n",
    "                              logger=None)\n",
    "exp_dir = 'cvae_dshapes2_randSample_klqq=0.1_klu=10_epoch=70_batch=64_z=7_zu=1'\n",
    "exp_dir = 'results/' + exp_dir\n",
    "model = load_model(exp_dir, is_gpu=True)"
   ]
  },
  {
   "cell_type": "code",
   "execution_count": 6,
   "metadata": {},
   "outputs": [],
   "source": [
    "l, t = infer(model, test_loader)"
   ]
  },
  {
   "cell_type": "code",
   "execution_count": 7,
   "metadata": {},
   "outputs": [
    {
     "data": {
      "image/png": "[encoded data removed]",
      "text/plain": [
       "<Figure size 432x288 with 1 Axes>"
      ]
     },
     "metadata": {
      "needs_background": "light"
     },
     "output_type": "display_data"
    }
   ],
   "source": [
    "from analysis.metrics import DCIMetrics\n",
    "metric_data = (l[:,:6], t)\n",
    "eastwood = DCIMetrics(metric_data, n_factors=6)\n",
    "vae_scores = eastwood(model, model_zs = metric_data)\n",
    "vae_R = vae_scores.R_coeff\n",
    "from analysis.hinton import hinton\n",
    "hinton(vae_R, 'factor', 'latent', fontsize=18)"
   ]
  },
  {
   "cell_type": "markdown",
   "metadata": {},
   "source": [
    "## new exp (batch 128)"
   ]
  },
  {
   "cell_type": "code",
   "execution_count": 9,
   "metadata": {},
   "outputs": [
    {
     "data": {
      "image/png": "[encoded data removed]",
      "text/plain": [
       "<Figure size 432x288 with 1 Axes>"
      ]
     },
     "metadata": {
      "needs_background": "light"
     },
     "output_type": "display_data"
    }
   ],
   "source": [
    "test_loader = get_dataloaders(\"dshapes2\",\n",
    "                              batch_size=128,\n",
    "                              shuffle=False,\n",
    "                              logger=None)\n",
    "exp_dir = 'cvae_dshapes2_randSample_klqq=0.1_klu=10_epoch=70_z=7_zu=1'\n",
    "exp_dir = 'results/' + exp_dir\n",
    "model = load_model(exp_dir, is_gpu=True)\n",
    "l, t = infer(model, test_loader)\n",
    "from analysis.metrics import DCIMetrics\n",
    "metric_data = (l[:,:6], t)\n",
    "eastwood = DCIMetrics(metric_data, n_factors=6)\n",
    "vae_scores = eastwood(model, model_zs = metric_data)\n",
    "vae_R = vae_scores.R_coeff\n",
    "from analysis.hinton import hinton\n",
    "hinton(vae_R, 'factor', 'latent', fontsize=18)"
   ]
  },
  {
   "cell_type": "code",
   "execution_count": 10,
   "metadata": {},
   "outputs": [
    {
     "name": "stdout",
     "output_type": "stream",
     "text": [
      "0.7280441960556944\n"
     ]
    }
   ],
   "source": [
    "print(vae_scores.overall_disentanglment)"
   ]
  },
  {
   "cell_type": "code",
   "execution_count": null,
   "metadata": {},
   "outputs": [],
   "source": []
  }
 ],
 "metadata": {
  "kernelspec": {
   "display_name": "Python 3",
   "language": "python",
   "name": "python3"
  },
  "language_info": {
   "codemirror_mode": {
    "name": "ipython",
    "version": 3
   },
   "file_extension": ".py",
   "mimetype": "text/x-python",
   "name": "python",
   "nbconvert_exporter": "python",
   "pygments_lexer": "ipython3",
   "version": "3.7.7"
  }
 },
 "nbformat": 4,
 "nbformat_minor": 4
}
