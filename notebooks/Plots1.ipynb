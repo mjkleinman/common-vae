{
 "cells": [
  {
   "cell_type": "code",
   "execution_count": 1,
   "metadata": {},
   "outputs": [],
   "source": [
    "%load_ext autoreload\n",
    "%autoreload 2\n",
    "import torch"
   ]
  },
  {
   "cell_type": "code",
   "execution_count": 2,
   "metadata": {},
   "outputs": [],
   "source": [
    "import os\n",
    "os.chdir('../')"
   ]
  },
  {
   "cell_type": "code",
   "execution_count": 3,
   "metadata": {},
   "outputs": [],
   "source": [
    "from utils.datasets import get_dataloaders, get_img_size, DATASETS\n",
    "from disvae.utils.modelIO import save_model, load_model, load_metadata\n"
   ]
  },
  {
   "cell_type": "markdown",
   "metadata": {},
   "source": [
    "# fit regressor"
   ]
  },
  {
   "cell_type": "markdown",
   "metadata": {},
   "source": [
    "## load dataset"
   ]
  },
  {
   "cell_type": "code",
   "execution_count": 25,
   "metadata": {},
   "outputs": [],
   "source": [
    "test_loader = get_dataloaders(\"ddsprites2\",\n",
    "                              batch_size=10000,\n",
    "                              shuffle=True,\n",
    "                              logger=None)\n",
    "\n",
    "# subset_indices = # select your indices here\n",
    "# subset_loader = torch.utils.data.DataLoader(cifar_dataset, batch_size=32, shuffle=True, sampler=SubsetRandomSampler(subset_indices), ...)\n"
   ]
  },
  {
   "cell_type": "markdown",
   "metadata": {},
   "source": [
    "## load model"
   ]
  },
  {
   "cell_type": "code",
   "execution_count": 5,
   "metadata": {},
   "outputs": [],
   "source": [
    "exp_dir = 'cvae_ddsprites2_randSample_klqq=0.1_klu=10_epoch=70_z=7_zu=2'\n",
    "exp_dir = 'results/' + exp_dir\n",
    "model = load_model(exp_dir, is_gpu=True)"
   ]
  },
  {
   "cell_type": "code",
   "execution_count": 6,
   "metadata": {},
   "outputs": [
    {
     "name": "stdout",
     "output_type": "stream",
     "text": [
      "results/cvae_ddsprites2_randSample_klqq=0.1_klu=10_epoch=70_z=7_zu=2\n"
     ]
    }
   ],
   "source": [
    "print(exp_dir)"
   ]
  },
  {
   "cell_type": "code",
   "execution_count": 26,
   "metadata": {},
   "outputs": [],
   "source": [
    "device = 'cuda'\n",
    "def infer(model, data):\n",
    "    with torch.no_grad():\n",
    "        model.eval()\n",
    "        device = next(model.parameters()).device\n",
    "\n",
    "        latents, targets = [], []\n",
    "        for x, t in data:\n",
    "            x, xa, xb = x\n",
    "            x = x.to(device=device)\n",
    "            xa = xa.to(device=device) \n",
    "            xb = xb.to(device=device)\n",
    "\n",
    "            pmu1, plu1, pmc1, plc1, pmu2, plu2, _, _ = model.encoder(xa, xb)\n",
    "            post_mean = torch.cat((pmu1, pmc1, pmu2), dim=-1) # just using the mean from xa\n",
    "            latents.append(post_mean.cpu())\n",
    "            targets.append(t)\n",
    "            break\n",
    "\n",
    "    latents = torch.cat(latents)\n",
    "    targets = torch.cat(targets)\n",
    "\n",
    "    return latents, targets"
   ]
  },
  {
   "cell_type": "code",
   "execution_count": 27,
   "metadata": {},
   "outputs": [],
   "source": [
    "l, t = infer(model, test_loader)"
   ]
  },
  {
   "cell_type": "code",
   "execution_count": 13,
   "metadata": {},
   "outputs": [],
   "source": [
    "from analysis.metrics import DCIMetrics\n",
    "metric_data = (l, t)\n",
    "eastwood = DCIMetrics(metric_data, n_factors=5)\n"
   ]
  },
  {
   "cell_type": "code",
   "execution_count": 28,
   "metadata": {},
   "outputs": [
    {
     "name": "stdout",
     "output_type": "stream",
     "text": [
      "torch.Size([10000, 5])\n"
     ]
    }
   ],
   "source": [
    "print(t.shape)"
   ]
  },
  {
   "cell_type": "code",
   "execution_count": 29,
   "metadata": {},
   "outputs": [
    {
     "name": "stdout",
     "output_type": "stream",
     "text": [
      "torch.Size([10000, 7])\n"
     ]
    }
   ],
   "source": [
    "print(l.shape)"
   ]
  },
  {
   "cell_type": "code",
   "execution_count": 30,
   "metadata": {},
   "outputs": [
    {
     "data": {
      "text/plain": [
       "tensor([[ 0,  2, 35,  3, 20],\n",
       "        [ 1,  2, 25, 23, 16],\n",
       "        [ 0,  5, 35,  6, 16],\n",
       "        ...,\n",
       "        [ 2,  1, 25, 21,  2],\n",
       "        [ 2,  3, 12, 25, 30],\n",
       "        [ 0,  3,  6, 26,  1]])"
      ]
     },
     "execution_count": 30,
     "metadata": {},
     "output_type": "execute_result"
    }
   ],
   "source": [
    "t"
   ]
  },
  {
   "cell_type": "code",
   "execution_count": 47,
   "metadata": {},
   "outputs": [
    {
     "name": "stderr",
     "output_type": "stream",
     "text": [
      "[autoreload of analysis.metrics failed: Traceback (most recent call last):\n",
      "  File \"/home/ubuntu/anaconda3/lib/python3.7/site-packages/IPython/extensions/autoreload.py\", line 245, in check\n",
      "    superreload(m, reload, self.old_objects)\n",
      "  File \"/home/ubuntu/anaconda3/lib/python3.7/site-packages/IPython/extensions/autoreload.py\", line 410, in superreload\n",
      "    update_generic(old_obj, new_obj)\n",
      "  File \"/home/ubuntu/anaconda3/lib/python3.7/site-packages/IPython/extensions/autoreload.py\", line 347, in update_generic\n",
      "    update(a, b)\n",
      "  File \"/home/ubuntu/anaconda3/lib/python3.7/site-packages/IPython/extensions/autoreload.py\", line 317, in update_class\n",
      "    update_instances(old, new)\n",
      "  File \"/home/ubuntu/anaconda3/lib/python3.7/site-packages/IPython/extensions/autoreload.py\", line 280, in update_instances\n",
      "    ref.__class__ = new\n",
      "  File \"<string>\", line 4, in __setattr__\n",
      "dataclasses.FrozenInstanceError: cannot assign to field '__class__'\n",
      "]\n"
     ]
    },
    {
     "name": "stdout",
     "output_type": "stream",
     "text": [
      "train error is [0.999    0.995875 0.871625 0.887    0.88425 ]\n",
      "test error is [0.9955 0.9815 0.4635 0.707  0.716 ]\n",
      "log losses on test set is [0.03106013 0.08728477 1.78534192 0.95087055 0.90027973]\n"
     ]
    }
   ],
   "source": [
    "metric_data = (l, t)\n",
    "eastwood = DCIMetrics(metric_data, n_factors=5, regressor='ensemble')\n",
    "vae_scores = eastwood(model, model_zs = metric_data)\n"
   ]
  },
  {
   "cell_type": "code",
   "execution_count": 46,
   "metadata": {},
   "outputs": [
    {
     "name": "stdout",
     "output_type": "stream",
     "text": [
      "train error is [0.999    0.99625  0.846125 0.519875 0.519875]\n",
      "test error is [0.996  0.9825 0.4665 0.0355 0.03  ]\n",
      "log losses on test set is [0.02921322 0.08818242 1.71961831 3.68177482 3.68755071]\n"
     ]
    }
   ],
   "source": [
    "metric_data = (l[:, 2:5], t)\n",
    "eastwood = DCIMetrics(metric_data, n_factors=5, regressor='ensemble')\n",
    "vae_scores = eastwood(model, model_zs = metric_data)"
   ]
  },
  {
   "cell_type": "code",
   "execution_count": 48,
   "metadata": {},
   "outputs": [
    {
     "name": "stdout",
     "output_type": "stream",
     "text": [
      "train error is [0.5455   0.397375 0.5875   0.84125  0.838125]\n",
      "test error is [0.453  0.204  0.0355 0.6775 0.697 ]\n",
      "log losses on test set is [1.03897956 1.78516242 4.01923225 1.01733221 0.95602531]\n"
     ]
    }
   ],
   "source": [
    "metric_data = (l[:, :2], t)\n",
    "eastwood_unq = DCIMetrics(metric_data, n_factors=5, regressor='ensemble')\n",
    "vae_scores = eastwood_unq(model, model_zs = metric_data)"
   ]
  },
  {
   "cell_type": "code",
   "execution_count": 41,
   "metadata": {},
   "outputs": [
    {
     "name": "stderr",
     "output_type": "stream",
     "text": [
      "[autoreload of analysis.metrics failed: Traceback (most recent call last):\n",
      "  File \"/home/ubuntu/anaconda3/lib/python3.7/site-packages/IPython/extensions/autoreload.py\", line 245, in check\n",
      "    superreload(m, reload, self.old_objects)\n",
      "  File \"/home/ubuntu/anaconda3/lib/python3.7/site-packages/IPython/extensions/autoreload.py\", line 410, in superreload\n",
      "    update_generic(old_obj, new_obj)\n",
      "  File \"/home/ubuntu/anaconda3/lib/python3.7/site-packages/IPython/extensions/autoreload.py\", line 347, in update_generic\n",
      "    update(a, b)\n",
      "  File \"/home/ubuntu/anaconda3/lib/python3.7/site-packages/IPython/extensions/autoreload.py\", line 317, in update_class\n",
      "    update_instances(old, new)\n",
      "  File \"/home/ubuntu/anaconda3/lib/python3.7/site-packages/IPython/extensions/autoreload.py\", line 280, in update_instances\n",
      "    ref.__class__ = new\n",
      "  File \"<string>\", line 4, in __setattr__\n",
      "dataclasses.FrozenInstanceError: cannot assign to field '__class__'\n",
      "]\n"
     ]
    }
   ],
   "source": [
    "vae_R = vae_scores.R_coeff"
   ]
  },
  {
   "cell_type": "code",
   "execution_count": 42,
   "metadata": {},
   "outputs": [
    {
     "name": "stdout",
     "output_type": "stream",
     "text": [
      "DCIResults(R_coeff=array([[3.97051720e-04, 6.51209137e-04, 2.29920942e-02, 1.96208403e-02,\n",
      "        8.76890328e-01],\n",
      "       [5.29986960e-04, 1.00913223e-03, 2.50577718e-02, 8.65360317e-01,\n",
      "        2.02310270e-02],\n",
      "       [3.40770262e-01, 3.80163908e-02, 3.80740170e-01, 2.67289692e-02,\n",
      "        1.44652122e-02],\n",
      "       [3.61575388e-01, 9.19565558e-01, 9.40860576e-02, 4.04266038e-02,\n",
      "        3.39948832e-02],\n",
      "       [2.96648113e-01, 4.04190498e-02, 4.27540540e-01, 1.34605678e-02,\n",
      "        2.00297928e-02],\n",
      "       [2.26741370e-05, 1.44000606e-04, 2.41189004e-02, 1.65035147e-02,\n",
      "        1.58018223e-02],\n",
      "       [5.65240959e-05, 1.94659118e-04, 2.54644657e-02, 1.78991874e-02,\n",
      "        1.85869342e-02]]), disentanglement_scores=array([0.85774916, 0.84772994, 0.34900143, 0.37840698, 0.36956972,\n",
      "       0.31814469, 0.31067658]), overall_disentanglment=0.5446366114226253, completness_scores=array([0.43313317, 0.82230841, 0.32384403, 0.6780357 , 0.697682  ]))\n"
     ]
    }
   ],
   "source": [
    "print(vae_scores)"
   ]
  },
  {
   "cell_type": "markdown",
   "metadata": {},
   "source": [
    "## visualizing"
   ]
  },
  {
   "cell_type": "code",
   "execution_count": 43,
   "metadata": {},
   "outputs": [
    {
     "data": {
      "image/png": "[encoded data removed]",
      "text/plain": [
       "<Figure size 432x288 with 1 Axes>"
      ]
     },
     "metadata": {
      "needs_background": "light"
     },
     "output_type": "display_data"
    }
   ],
   "source": [
    "from analysis.hinton import hinton\n",
    "hinton(vae_R, 'factor', 'latent', fontsize=18)"
   ]
  },
  {
   "cell_type": "code",
   "execution_count": 27,
   "metadata": {},
   "outputs": [
    {
     "name": "stdout",
     "output_type": "stream",
     "text": [
      "(7, 6)\n"
     ]
    }
   ],
   "source": [
    "print(vae_R.shape)"
   ]
  },
  {
   "cell_type": "code",
   "execution_count": 24,
   "metadata": {},
   "outputs": [
    {
     "name": "stdout",
     "output_type": "stream",
     "text": [
      "[0.70315351 0.6942059  0.29207009 0.35471524 0.26990988 0.29582341\n",
      " 0.27595099]\n"
     ]
    }
   ],
   "source": [
    "print(vae_scores.disentanglement_scores)"
   ]
  },
  {
   "cell_type": "markdown",
   "metadata": {},
   "source": [
    "## new exp 3d-shapes"
   ]
  },
  {
   "cell_type": "code",
   "execution_count": 5,
   "metadata": {},
   "outputs": [],
   "source": [
    "test_loader = get_dataloaders(\"dshapes2\",\n",
    "                              batch_size=128,\n",
    "                              shuffle=False,\n",
    "                              logger=None)\n",
    "exp_dir = 'cvae_dshapes2_randSample_klqq=0.1_klu=10_epoch=70_batch=32_z=7_zu=1'\n",
    "exp_dir = 'results/' + exp_dir\n",
    "model = load_model(exp_dir, is_gpu=True)"
   ]
  },
  {
   "cell_type": "code",
   "execution_count": 8,
   "metadata": {},
   "outputs": [],
   "source": [
    "l, t = infer(model, test_loader)"
   ]
  },
  {
   "cell_type": "code",
   "execution_count": 24,
   "metadata": {},
   "outputs": [],
   "source": [
    "from analysis.metrics import DCIMetrics\n",
    "metric_data = (l[:,:6], t)\n",
    "eastwood = DCIMetrics(metric_data, n_factors=6)"
   ]
  },
  {
   "cell_type": "code",
   "execution_count": 25,
   "metadata": {},
   "outputs": [],
   "source": [
    "vae_scores = eastwood(model, model_zs = metric_data)\n",
    "vae_R = vae_scores.R_coeff"
   ]
  },
  {
   "cell_type": "code",
   "execution_count": 26,
   "metadata": {},
   "outputs": [
    {
     "data": {
      "image/png": "[encoded data removed]",
      "text/plain": [
       "<Figure size 432x288 with 1 Axes>"
      ]
     },
     "metadata": {
      "needs_background": "light"
     },
     "output_type": "display_data"
    }
   ],
   "source": [
    "from analysis.hinton import hinton\n",
    "hinton(vae_R, 'factor', 'latent', fontsize=18)"
   ]
  },
  {
   "cell_type": "code",
   "execution_count": 27,
   "metadata": {},
   "outputs": [
    {
     "name": "stdout",
     "output_type": "stream",
     "text": [
      "[1.         0.70023737 0.93821185 0.85113669 0.95553696 0.49920984]\n"
     ]
    }
   ],
   "source": [
    "print(vae_scores.disentanglement_scores)"
   ]
  },
  {
   "cell_type": "code",
   "execution_count": 28,
   "metadata": {},
   "outputs": [
    {
     "name": "stdout",
     "output_type": "stream",
     "text": [
      "0.7925896979212347\n"
     ]
    }
   ],
   "source": [
    "print(vae_scores.overall_disentanglment)"
   ]
  },
  {
   "cell_type": "code",
   "execution_count": 16,
   "metadata": {},
   "outputs": [
    {
     "name": "stdout",
     "output_type": "stream",
     "text": [
      "[[0.00000000e+00 0.00000000e+00 0.00000000e+00 0.00000000e+00\n",
      "  0.00000000e+00 9.13894131e-01]\n",
      " [0.00000000e+00 1.74199145e-01 0.00000000e+00 0.00000000e+00\n",
      "  5.15097845e-02 0.00000000e+00]\n",
      " [0.00000000e+00 0.00000000e+00 1.08848454e-02 0.00000000e+00\n",
      "  2.60105544e-04 0.00000000e+00]\n",
      " [4.81733732e-02 0.00000000e+00 0.00000000e+00 1.38038315e-02\n",
      "  9.37402693e-01 0.00000000e+00]\n",
      " [2.41154866e-01 0.00000000e+00 0.00000000e+00 3.77611552e-03\n",
      "  0.00000000e+00 0.00000000e+00]\n",
      " [1.54128355e-01 0.00000000e+00 0.00000000e+00 5.90074644e-01\n",
      "  1.71997119e-01 0.00000000e+00]]\n"
     ]
    }
   ],
   "source": [
    "print(vae_R)"
   ]
  },
  {
   "cell_type": "markdown",
   "metadata": {},
   "source": [
    "## new exp (batch 64)"
   ]
  },
  {
   "cell_type": "code",
   "execution_count": 4,
   "metadata": {},
   "outputs": [],
   "source": [
    "test_loader = get_dataloaders(\"dshapes2\",\n",
    "                              batch_size=128,\n",
    "                              shuffle=False,\n",
    "                              logger=None)\n",
    "exp_dir = 'cvae_dshapes2_randSample_klqq=0.1_klu=10_epoch=70_batch=64_z=7_zu=1'\n",
    "exp_dir = 'results/' + exp_dir\n",
    "model = load_model(exp_dir, is_gpu=True)"
   ]
  },
  {
   "cell_type": "code",
   "execution_count": 6,
   "metadata": {},
   "outputs": [],
   "source": [
    "l, t = infer(model, test_loader)"
   ]
  },
  {
   "cell_type": "code",
   "execution_count": 7,
   "metadata": {},
   "outputs": [
    {
     "data": {
      "image/png": "[encoded data removed]",
      "text/plain": [
       "<Figure size 432x288 with 1 Axes>"
      ]
     },
     "metadata": {
      "needs_background": "light"
     },
     "output_type": "display_data"
    }
   ],
   "source": [
    "from analysis.metrics import DCIMetrics\n",
    "metric_data = (l[:,:6], t)\n",
    "eastwood = DCIMetrics(metric_data, n_factors=6)\n",
    "vae_scores = eastwood(model, model_zs = metric_data)\n",
    "vae_R = vae_scores.R_coeff\n",
    "from analysis.hinton import hinton\n",
    "hinton(vae_R, 'factor', 'latent', fontsize=18)"
   ]
  },
  {
   "cell_type": "markdown",
   "metadata": {},
   "source": [
    "## new exp (batch 128)"
   ]
  },
  {
   "cell_type": "code",
   "execution_count": 9,
   "metadata": {},
   "outputs": [
    {
     "data": {
      "image/png": "[encoded data removed]",
      "text/plain": [
       "<Figure size 432x288 with 1 Axes>"
      ]
     },
     "metadata": {
      "needs_background": "light"
     },
     "output_type": "display_data"
    }
   ],
   "source": [
    "test_loader = get_dataloaders(\"dshapes2\",\n",
    "                              batch_size=128,\n",
    "                              shuffle=False,\n",
    "                              logger=None)\n",
    "exp_dir = 'cvae_dshapes2_randSample_klqq=0.1_klu=10_epoch=70_z=7_zu=1'\n",
    "exp_dir = 'results/' + exp_dir\n",
    "model = load_model(exp_dir, is_gpu=True)\n",
    "l, t = infer(model, test_loader)\n",
    "from analysis.metrics import DCIMetrics\n",
    "metric_data = (l[:,:6], t)\n",
    "eastwood = DCIMetrics(metric_data, n_factors=6)\n",
    "vae_scores = eastwood(model, model_zs = metric_data)\n",
    "vae_R = vae_scores.R_coeff\n",
    "from analysis.hinton import hinton\n",
    "hinton(vae_R, 'factor', 'latent', fontsize=18)"
   ]
  },
  {
   "cell_type": "code",
   "execution_count": 10,
   "metadata": {},
   "outputs": [
    {
     "name": "stdout",
     "output_type": "stream",
     "text": [
      "0.7280441960556944\n"
     ]
    }
   ],
   "source": [
    "print(vae_scores.overall_disentanglment)"
   ]
  },
  {
   "cell_type": "code",
   "execution_count": null,
   "metadata": {},
   "outputs": [],
   "source": []
  }
 ],
 "metadata": {
  "kernelspec": {
   "display_name": "Python 3",
   "language": "python",
   "name": "python3"
  },
  "language_info": {
   "codemirror_mode": {
    "name": "ipython",
    "version": 3
   },
   "file_extension": ".py",
   "mimetype": "text/x-python",
   "name": "python",
   "nbconvert_exporter": "python",
   "pygments_lexer": "ipython3",
   "version": "3.7.7"
  }
 },
 "nbformat": 4,
 "nbformat_minor": 4
}
