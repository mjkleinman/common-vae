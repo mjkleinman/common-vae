{
 "cells": [
  {
   "cell_type": "code",
   "execution_count": 1,
   "metadata": {},
   "outputs": [],
   "source": [
    "%load_ext autoreload\n",
    "%autoreload 2\n",
    "import torch"
   ]
  },
  {
   "cell_type": "code",
   "execution_count": 2,
   "metadata": {},
   "outputs": [],
   "source": [
    "import os\n",
    "os.chdir('../')"
   ]
  },
  {
   "cell_type": "code",
   "execution_count": 3,
   "metadata": {},
   "outputs": [],
   "source": [
    "from utils.datasets import get_dataloaders, get_img_size, DATASETS\n",
    "from disvae.utils.modelIO import save_model, load_model, load_metadata\n"
   ]
  },
  {
   "cell_type": "markdown",
   "metadata": {},
   "source": [
    "# fit regressor"
   ]
  },
  {
   "cell_type": "markdown",
   "metadata": {},
   "source": [
    "## load dataset"
   ]
  },
  {
   "cell_type": "code",
   "execution_count": 57,
   "metadata": {},
   "outputs": [],
   "source": [
    "test_loader = get_dataloaders(\"ddsprites2\",\n",
    "                              batch_size=128,\n",
    "                              shuffle=False,\n",
    "                              logger=None)"
   ]
  },
  {
   "cell_type": "markdown",
   "metadata": {},
   "source": [
    "## load model"
   ]
  },
  {
   "cell_type": "code",
   "execution_count": 58,
   "metadata": {},
   "outputs": [],
   "source": [
    "exp_dir = 'cvae_ddsprites2_randSample_klqq=0.1_klu=10_epoch=70_z=7_zu=2'\n",
    "exp_dir = 'results/' + exp_dir\n",
    "model = load_model(exp_dir, is_gpu=True)"
   ]
  },
  {
   "cell_type": "code",
   "execution_count": 59,
   "metadata": {},
   "outputs": [
    {
     "name": "stdout",
     "output_type": "stream",
     "text": [
      "results/cvae_ddsprites2_randSample_klqq=0.1_klu=10_epoch=70_z=7_zu=2\n"
     ]
    }
   ],
   "source": [
    "print(exp_dir)"
   ]
  },
  {
   "cell_type": "code",
   "execution_count": 7,
   "metadata": {},
   "outputs": [],
   "source": [
    "device = 'cuda'\n",
    "def infer(model, data):\n",
    "    with torch.no_grad():\n",
    "        model.eval()\n",
    "        device = next(model.parameters()).device\n",
    "\n",
    "        latents, targets = [], []\n",
    "        for x, t in data:\n",
    "            x, xa, xb = x\n",
    "            x = x.to(device=device)\n",
    "            xa = xa.to(device=device) \n",
    "            xb = xb.to(device=device)\n",
    "\n",
    "            pmu1, plu1, pmc1, plc1, pmu2, plu2, _, _ = model.encoder(xa, xb)\n",
    "            post_mean = torch.cat((pmu1, pmc1, pmu2), dim=-1) # just using the mean from xa\n",
    "            latents.append(post_mean.cpu())\n",
    "            targets.append(t)\n",
    "\n",
    "    latents = torch.cat(latents)\n",
    "    targets = torch.cat(targets)\n",
    "\n",
    "    return latents, targets"
   ]
  },
  {
   "cell_type": "code",
   "execution_count": 61,
   "metadata": {},
   "outputs": [],
   "source": [
    "l, t = infer(model, test_loader)"
   ]
  },
  {
   "cell_type": "code",
   "execution_count": 73,
   "metadata": {},
   "outputs": [],
   "source": [
    "from analysis.metrics import DCIMetrics\n",
    "metric_data = (l, t)\n",
    "eastwood = DCIMetrics(metric_data, n_factors=6)\n"
   ]
  },
  {
   "cell_type": "code",
   "execution_count": 74,
   "metadata": {},
   "outputs": [
    {
     "name": "stdout",
     "output_type": "stream",
     "text": [
      "torch.Size([737280, 6])\n"
     ]
    }
   ],
   "source": [
    "print(t.shape)"
   ]
  },
  {
   "cell_type": "code",
   "execution_count": 75,
   "metadata": {},
   "outputs": [
    {
     "name": "stdout",
     "output_type": "stream",
     "text": [
      "torch.Size([737280, 7])\n"
     ]
    }
   ],
   "source": [
    "print(l.shape)"
   ]
  },
  {
   "cell_type": "code",
   "execution_count": 76,
   "metadata": {},
   "outputs": [
    {
     "name": "stdout",
     "output_type": "stream",
     "text": [
      "[array([0., 0., 0., 0., 0., 0., 0.]), array([0.        , 0.        , 0.        , 0.37016459, 0.        ,\n",
      "       0.        , 0.        ]), array([0.00000000e+00, 0.00000000e+00, 1.45349995e-04, 8.43019925e-01,\n",
      "       0.00000000e+00, 0.00000000e+00, 0.00000000e+00]), array([0.        , 0.01978629, 0.        , 0.        , 0.13418185,\n",
      "       0.00866528, 0.        ]), array([0.        , 0.95493139, 0.        , 0.        , 0.        ,\n",
      "       0.        , 0.        ]), array([0.95695269, 0.        , 0.        , 0.        , 0.        ,\n",
      "       0.        , 0.        ])]\n",
      "[[0.00000000e+00 0.00000000e+00 0.00000000e+00 0.00000000e+00\n",
      "  0.00000000e+00 9.56952687e-01]\n",
      " [0.00000000e+00 0.00000000e+00 0.00000000e+00 1.97862936e-02\n",
      "  9.54931386e-01 0.00000000e+00]\n",
      " [0.00000000e+00 0.00000000e+00 1.45349995e-04 0.00000000e+00\n",
      "  0.00000000e+00 0.00000000e+00]\n",
      " [0.00000000e+00 3.70164593e-01 8.43019925e-01 0.00000000e+00\n",
      "  0.00000000e+00 0.00000000e+00]\n",
      " [0.00000000e+00 0.00000000e+00 0.00000000e+00 1.34181848e-01\n",
      "  0.00000000e+00 0.00000000e+00]\n",
      " [0.00000000e+00 0.00000000e+00 0.00000000e+00 8.66528044e-03\n",
      "  0.00000000e+00 0.00000000e+00]\n",
      " [0.00000000e+00 0.00000000e+00 0.00000000e+00 0.00000000e+00\n",
      "  0.00000000e+00 0.00000000e+00]]\n"
     ]
    }
   ],
   "source": [
    "vae_scores = eastwood(model, model_zs = metric_data)\n"
   ]
  },
  {
   "cell_type": "code",
   "execution_count": 77,
   "metadata": {},
   "outputs": [],
   "source": [
    "vae_R = vae_scores.R_coeff"
   ]
  },
  {
   "cell_type": "markdown",
   "metadata": {},
   "source": [
    "## visualizing"
   ]
  },
  {
   "cell_type": "code",
   "execution_count": 83,
   "metadata": {},
   "outputs": [
    {
     "data": {
      "image/png": "[encoded data removed]",
      "text/plain": [
       "<Figure size 432x288 with 1 Axes>"
      ]
     },
     "metadata": {
      "needs_background": "light"
     },
     "output_type": "display_data"
    }
   ],
   "source": [
    "from analysis.hinton import hinton\n",
    "hinton(vae_R[:5, 1:], 'factor', 'latent', fontsize=18)"
   ]
  },
  {
   "cell_type": "code",
   "execution_count": 79,
   "metadata": {},
   "outputs": [
    {
     "name": "stdout",
     "output_type": "stream",
     "text": [
      "(7, 6)\n"
     ]
    }
   ],
   "source": [
    "print(vae_R.shape)"
   ]
  },
  {
   "cell_type": "code",
   "execution_count": 81,
   "metadata": {},
   "outputs": [
    {
     "name": "stdout",
     "output_type": "stream",
     "text": [
      "[1.         0.94463404 1.         0.65668455 1.         1.\n",
      " 1.        ]\n"
     ]
    }
   ],
   "source": [
    "print(vae_scores.disentanglement_scores)"
   ]
  },
  {
   "cell_type": "markdown",
   "metadata": {},
   "source": [
    "## new exp 3d-shapes"
   ]
  },
  {
   "cell_type": "code",
   "execution_count": 5,
   "metadata": {},
   "outputs": [],
   "source": [
    "test_loader = get_dataloaders(\"dshapes2\",\n",
    "                              batch_size=128,\n",
    "                              shuffle=False,\n",
    "                              logger=None)\n",
    "exp_dir = 'cvae_dshapes2_randSample_klqq=0.1_klu=10_epoch=70_batch=32_z=7_zu=1'\n",
    "exp_dir = 'results/' + exp_dir\n",
    "model = load_model(exp_dir, is_gpu=True)"
   ]
  },
  {
   "cell_type": "code",
   "execution_count": 8,
   "metadata": {},
   "outputs": [],
   "source": [
    "l, t = infer(model, test_loader)"
   ]
  },
  {
   "cell_type": "code",
   "execution_count": 24,
   "metadata": {},
   "outputs": [],
   "source": [
    "from analysis.metrics import DCIMetrics\n",
    "metric_data = (l[:,:6], t)\n",
    "eastwood = DCIMetrics(metric_data, n_factors=6)"
   ]
  },
  {
   "cell_type": "code",
   "execution_count": 25,
   "metadata": {},
   "outputs": [],
   "source": [
    "vae_scores = eastwood(model, model_zs = metric_data)\n",
    "vae_R = vae_scores.R_coeff"
   ]
  },
  {
   "cell_type": "code",
   "execution_count": 26,
   "metadata": {},
   "outputs": [
    {
     "data": {
      "image/png": "[encoded data removed]",
      "text/plain": [
       "<Figure size 432x288 with 1 Axes>"
      ]
     },
     "metadata": {
      "needs_background": "light"
     },
     "output_type": "display_data"
    }
   ],
   "source": [
    "from analysis.hinton import hinton\n",
    "hinton(vae_R, 'factor', 'latent', fontsize=18)"
   ]
  },
  {
   "cell_type": "code",
   "execution_count": 27,
   "metadata": {},
   "outputs": [
    {
     "name": "stdout",
     "output_type": "stream",
     "text": [
      "[1.         0.70023737 0.93821185 0.85113669 0.95553696 0.49920984]\n"
     ]
    }
   ],
   "source": [
    "print(vae_scores.disentanglement_scores)"
   ]
  },
  {
   "cell_type": "code",
   "execution_count": 28,
   "metadata": {},
   "outputs": [
    {
     "name": "stdout",
     "output_type": "stream",
     "text": [
      "0.7925896979212347\n"
     ]
    }
   ],
   "source": [
    "print(vae_scores.overall_disentanglment)"
   ]
  },
  {
   "cell_type": "code",
   "execution_count": 16,
   "metadata": {},
   "outputs": [
    {
     "name": "stdout",
     "output_type": "stream",
     "text": [
      "[[0.00000000e+00 0.00000000e+00 0.00000000e+00 0.00000000e+00\n",
      "  0.00000000e+00 9.13894131e-01]\n",
      " [0.00000000e+00 1.74199145e-01 0.00000000e+00 0.00000000e+00\n",
      "  5.15097845e-02 0.00000000e+00]\n",
      " [0.00000000e+00 0.00000000e+00 1.08848454e-02 0.00000000e+00\n",
      "  2.60105544e-04 0.00000000e+00]\n",
      " [4.81733732e-02 0.00000000e+00 0.00000000e+00 1.38038315e-02\n",
      "  9.37402693e-01 0.00000000e+00]\n",
      " [2.41154866e-01 0.00000000e+00 0.00000000e+00 3.77611552e-03\n",
      "  0.00000000e+00 0.00000000e+00]\n",
      " [1.54128355e-01 0.00000000e+00 0.00000000e+00 5.90074644e-01\n",
      "  1.71997119e-01 0.00000000e+00]]\n"
     ]
    }
   ],
   "source": [
    "print(vae_R)"
   ]
  },
  {
   "cell_type": "markdown",
   "metadata": {},
   "source": [
    "## Action Exp"
   ]
  },
  {
   "cell_type": "code",
   "execution_count": 4,
   "metadata": {},
   "outputs": [],
   "source": [
    "test_loader = get_dataloaders(\"dshapesd\",\n",
    "                              batch_size=128,\n",
    "                              shuffle=False,\n",
    "                              logger=None)"
   ]
  },
  {
   "cell_type": "code",
   "execution_count": 5,
   "metadata": {},
   "outputs": [],
   "source": [
    "exp_dir = 'avae_actpost_beta=8_klqq=0.0_dshapesd_fb=0_epoch=30_z=10_lr=0.0001_batch=64_seed=0'\n",
    "exp_dir = 'results/' + exp_dir\n",
    "model = load_model(exp_dir, is_gpu=True)"
   ]
  },
  {
   "cell_type": "code",
   "execution_count": 8,
   "metadata": {},
   "outputs": [],
   "source": [
    "device = 'cuda'\n",
    "def infer(model, data):\n",
    "    with torch.no_grad():\n",
    "        model.eval()\n",
    "        device = next(model.parameters()).device\n",
    "\n",
    "        latents, targets = [], []\n",
    "        for x, t in data:\n",
    "            x, xa, xb = x\n",
    "            x = x.to(device=device)\n",
    "            xa = xa.to(device=device) \n",
    "            xb = xb.to(device=device)\n",
    "\n",
    "            post_mean, post_logvar, _, _, _, _ = model.encoder(xa, xb)\n",
    "            latents.append(post_mean.cpu())\n",
    "            targets.append(t[0])\n",
    "\n",
    "    latents = torch.cat(latents)\n",
    "    targets = torch.cat(targets)\n",
    "\n",
    "    return latents, targets"
   ]
  },
  {
   "cell_type": "code",
   "execution_count": 9,
   "metadata": {},
   "outputs": [],
   "source": [
    "l, t = infer(model, test_loader)"
   ]
  },
  {
   "cell_type": "code",
   "execution_count": 10,
   "metadata": {},
   "outputs": [],
   "source": [
    "from analysis.metrics import DCIMetrics\n",
    "metric_data = (l, t)\n",
    "eastwood = DCIMetrics(metric_data, n_factors=6)"
   ]
  },
  {
   "cell_type": "code",
   "execution_count": 11,
   "metadata": {},
   "outputs": [],
   "source": [
    "vae_scores = eastwood(model, model_zs = metric_data)\n",
    "vae_R = vae_scores.R_coeff"
   ]
  },
  {
   "cell_type": "code",
   "execution_count": 12,
   "metadata": {},
   "outputs": [
    {
     "data": {
      "image/png": "[encoded data removed]",
      "text/plain": [
       "<Figure size 432x288 with 1 Axes>"
      ]
     },
     "metadata": {
      "needs_background": "light"
     },
     "output_type": "display_data"
    }
   ],
   "source": [
    "from analysis.hinton import hinton\n",
    "hinton(vae_R, 'factor', 'latent', fontsize=18)"
   ]
  },
  {
   "cell_type": "code",
   "execution_count": 13,
   "metadata": {},
   "outputs": [
    {
     "name": "stdout",
     "output_type": "stream",
     "text": [
      "0.17086579308197275\n"
     ]
    }
   ],
   "source": [
    "print(vae_scores.overall_disentanglment)"
   ]
  },
  {
   "cell_type": "markdown",
   "metadata": {},
   "source": [
    "## batch 32"
   ]
  },
  {
   "cell_type": "code",
   "execution_count": 19,
   "metadata": {},
   "outputs": [
    {
     "data": {
      "image/png": "[encoded data removed]",
      "text/plain": [
       "<Figure size 432x288 with 1 Axes>"
      ]
     },
     "metadata": {
      "needs_background": "light"
     },
     "output_type": "display_data"
    }
   ],
   "source": [
    "from analysis.metrics import DCIMetrics\n",
    "from analysis.hinton import hinton\n",
    "\n",
    "exp_dir = 'avae_actpost_beta=8_klqq=0.0_dshapesd_fb=0_epoch=30_z=10_lr=0.0001_batch=32_seed=0'\n",
    "exp_dir = 'results/' + exp_dir\n",
    "model = load_model(exp_dir, is_gpu=True)\n",
    "l, t = infer(model, test_loader)\n",
    "metric_data = (l, t)\n",
    "eastwood = DCIMetrics(metric_data, n_factors=6)\n",
    "vae_scores = eastwood(model, model_zs = metric_data)\n",
    "vae_R = vae_scores.R_coeff\n",
    "hinton(vae_R, 'factor', 'latent', fontsize=18)"
   ]
  },
  {
   "cell_type": "code",
   "execution_count": 20,
   "metadata": {},
   "outputs": [
    {
     "name": "stdout",
     "output_type": "stream",
     "text": [
      "0.21069463629022628\n"
     ]
    }
   ],
   "source": [
    "print(vae_scores.overall_disentanglment)"
   ]
  },
  {
   "cell_type": "code",
   "execution_count": 17,
   "metadata": {},
   "outputs": [
    {
     "data": {
      "image/png": "[encoded data removed]",
      "text/plain": [
       "<Figure size 432x288 with 1 Axes>"
      ]
     },
     "metadata": {
      "needs_background": "light"
     },
     "output_type": "display_data"
    }
   ],
   "source": [
    "from analysis.metrics import DCIMetrics\n",
    "from analysis.hinton import hinton\n",
    "\n",
    "exp_dir = 'avae_actpost_beta=16_klqq=0.0_dshapesd_fb=0_epoch=30_z=10_lr=0.0001_batch=32_seed=0'\n",
    "exp_dir = 'results/' + exp_dir\n",
    "model = load_model(exp_dir, is_gpu=True)\n",
    "l, t = infer(model, test_loader)\n",
    "metric_data = (l, t)\n",
    "eastwood = DCIMetrics(metric_data, n_factors=6)\n",
    "vae_scores = eastwood(model, model_zs = metric_data)\n",
    "vae_R = vae_scores.R_coeff\n",
    "hinton(vae_R, 'factor', 'latent', fontsize=18)"
   ]
  },
  {
   "cell_type": "code",
   "execution_count": 18,
   "metadata": {},
   "outputs": [
    {
     "name": "stdout",
     "output_type": "stream",
     "text": [
      "0.4412515536844073\n"
     ]
    }
   ],
   "source": [
    "print(vae_scores.overall_disentanglment)"
   ]
  },
  {
   "cell_type": "code",
   "execution_count": 21,
   "metadata": {},
   "outputs": [
    {
     "data": {
      "image/png": "[encoded data removed]",
      "text/plain": [
       "<Figure size 432x288 with 1 Axes>"
      ]
     },
     "metadata": {
      "needs_background": "light"
     },
     "output_type": "display_data"
    }
   ],
   "source": [
    "from analysis.metrics import DCIMetrics\n",
    "from analysis.hinton import hinton\n",
    "\n",
    "exp_dir = 'avae_actpost_beta=16_klqq=0.0_dshapesd_fb=0_epoch=30_z=10_lr=0.0001_batch=64_seed=0'\n",
    "exp_dir = 'results/' + exp_dir\n",
    "model = load_model(exp_dir, is_gpu=True)\n",
    "l, t = infer(model, test_loader)\n",
    "metric_data = (l, t)\n",
    "eastwood = DCIMetrics(metric_data, n_factors=6)\n",
    "vae_scores = eastwood(model, model_zs = metric_data)\n",
    "vae_R = vae_scores.R_coeff\n",
    "hinton(vae_R, 'factor', 'latent', fontsize=18)"
   ]
  },
  {
   "cell_type": "code",
   "execution_count": 22,
   "metadata": {},
   "outputs": [
    {
     "name": "stdout",
     "output_type": "stream",
     "text": [
      "0.36921277389506457\n"
     ]
    }
   ],
   "source": [
    "print(vae_scores.overall_disentanglment)"
   ]
  },
  {
   "cell_type": "code",
   "execution_count": 30,
   "metadata": {},
   "outputs": [
    {
     "data": {
      "image/png": "[encoded data removed]",
      "text/plain": [
       "<Figure size 432x288 with 1 Axes>"
      ]
     },
     "metadata": {
      "needs_background": "light"
     },
     "output_type": "display_data"
    }
   ],
   "source": [
    "from analysis.hinton import hinton\n",
    "hinton(vae_R, 'factor', 'latent', fontsize=18, save_plot=True, figs_dir=exp_dir)\n"
   ]
  },
  {
   "cell_type": "code",
   "execution_count": null,
   "metadata": {},
   "outputs": [],
   "source": []
  }
 ],
 "metadata": {
  "kernelspec": {
   "display_name": "Python 3",
   "language": "python",
   "name": "python3"
  },
  "language_info": {
   "codemirror_mode": {
    "name": "ipython",
    "version": 3
   },
   "file_extension": ".py",
   "mimetype": "text/x-python",
   "name": "python",
   "nbconvert_exporter": "python",
   "pygments_lexer": "ipython3",
   "version": "3.7.7"
  }
 },
 "nbformat": 4,
 "nbformat_minor": 4
}
